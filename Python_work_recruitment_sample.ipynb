{
 "cells": [
  {
   "cell_type": "markdown",
   "id": "8895ef3a-5a01-4c7a-9232-dae94963c5c1",
   "metadata": {},
   "source": [
    "## I. Giả sử bạn cần tổng hợp dữ liệu nhân sự của nhiều phòng ban trong công ty để có một dữ liệu tổng thể nhân sự\n",
    "File excel: employee.xlsx\n",
    "- sheet 1: Phòng IT\n",
    "- sheet 2: Phòng Kế toán\n",
    "- Sheet 3: Phòng Marketing\n"
   ]
  },
  {
   "cell_type": "markdown",
   "id": "d99dfd24-b9dc-47e5-891d-4e0e2df2ec9f",
   "metadata": {},
   "source": [
    "#### I.1 Dùng pandas để đọc dữ liệu từ 3 sheet trên từ file excel employee.xlsx"
   ]
  },
  {
   "cell_type": "markdown",
   "id": "476047e2-b77d-490a-893f-b491ad3424d0",
   "metadata": {},
   "source": [
    "#### I.2 Gộp các dataframe thành 1 dataframe duy nhất"
   ]
  },
  {
   "cell_type": "markdown",
   "id": "97e6ba7e-e0f2-44dc-8885-fe5e675d961e",
   "metadata": {},
   "source": [
    "#### I.3 Thêm 1 cột 'department' để định nghĩa phòng ban cho nhân sự (giá trị của cột department tương ứng: Technology, Accountant, Marketing)"
   ]
  },
  {
   "cell_type": "markdown",
   "id": "66b0006e-fa01-436d-a24f-68dc224f9780",
   "metadata": {},
   "source": [
    "#### I.4 Ghi dữ liệu ra file CSV, đầu ra bao gồm cả cột index, các cột và giá trị cách nhau bởi ký tự |"
   ]
  },
  {
   "cell_type": "markdown",
   "id": "0ead957e-92a6-492e-ae9e-902fba563fbf",
   "metadata": {},
   "source": [
    "----"
   ]
  },
  {
   "cell_type": "markdown",
   "id": "12c7843f-b587-4c2b-b55e-d426c785cef9",
   "metadata": {},
   "source": [
    "### II. Xử lý việc missing data"
   ]
  },
  {
   "cell_type": "markdown",
   "id": "73ee6c0e-a817-49a0-94d2-bb4e7d6987cf",
   "metadata": {},
   "source": [
    "Khởi tạo dataframe theo code bên dưới"
   ]
  },
  {
   "cell_type": "code",
   "execution_count": 50,
   "id": "5c095485-cff6-40de-b92d-14db1efb6a28",
   "metadata": {},
   "outputs": [],
   "source": [
    "import pandas as pd\n",
    "import numpy as np\n",
    "pd.set_option('display.max_rows', None)\n",
    "#pd.set_option('display.max_columns', None)\n",
    "df = pd.DataFrame({\n",
    "'ord_no':[70001,np.nan,70002,70004,np.nan,70005,np.nan,70010,70003,70012,np.nan,70013],\n",
    "'purch_amt':[150.5,270.65,65.26,110.5,948.5,2400.6,5760,1983.43,2480.4,250.45, 75.29,3045.6],\n",
    "'ord_date': ['2012-10-05','2012-09-10',np.nan,'2012-08-17','2012-09-10','2012-07-27','2012-09-10','2012-10-10','2012-10-10','2012-06-27','2012-08-17','2012-04-25'],\n",
    "'customer_id':[3002,3001,3001,3003,3002,3001,3001,3004,3003,3002,3001,3001],\n",
    "'salesman_id':[5002,5003,5001,np.nan,5002,5001,5001,np.nan,5003,5002,5003,np.nan]})"
   ]
  },
  {
   "cell_type": "markdown",
   "id": "37962370-70bb-49bc-b16d-36b689bc2416",
   "metadata": {},
   "source": [
    "#### II.1 Viết chương trình xác định từng cột có bị missing value hay không "
   ]
  },
  {
   "cell_type": "markdown",
   "id": "2f7ff264-366b-4068-8458-095bc4361698",
   "metadata": {},
   "source": [
    "#### II.2 Viết chương trình xác định số lượng missing value mỗi cột"
   ]
  },
  {
   "cell_type": "markdown",
   "id": "54780c2c-ec51-4da1-841e-d7c0f6b79ee3",
   "metadata": {},
   "source": [
    "#### II.3 Viết chương trình loại bỏ tất cả các dòng mà giá trị tất cả của dòng đó null"
   ]
  },
  {
   "cell_type": "markdown",
   "id": "21cdbb10-8e66-455a-bc0a-024d37f5c0b4",
   "metadata": {},
   "source": [
    "#### II.4 Viết chương trình thay tất cả giá trị Nan của cột ord_no bằng giá trị 0"
   ]
  },
  {
   "cell_type": "markdown",
   "id": "e4c11e5d-dfd2-4dcd-80ea-e2aaa4a2d104",
   "metadata": {},
   "source": [
    "---"
   ]
  },
  {
   "cell_type": "markdown",
   "id": "0acd6d21-f55c-413a-af7f-dca3ea1f4cfe",
   "metadata": {},
   "source": [
    "### III. Xử lý dữ liệu lấy từ API"
   ]
  },
  {
   "cell_type": "markdown",
   "id": "ad67d77f-2a96-46f6-ab01-07d80474c500",
   "metadata": {},
   "source": [
    "* url API: https://mocki.io/v1/840088ea-222f-4fe3-bb17-fa093e7be836"
   ]
  },
  {
   "cell_type": "markdown",
   "id": "aff84966-6565-46f0-b4da-d6c6754669ee",
   "metadata": {},
   "source": [
    "Trong trường hợp link trên lỗi thì sử dụng url: https://dummyjson.com/c/bf8e-11d4-404d-aace để thay thế"
   ]
  },
  {
   "cell_type": "markdown",
   "id": "b1e1507b-9b1a-468a-884c-a05dc6a0582d",
   "metadata": {},
   "source": [
    "#### III.1 Extract data từ trường employees trong kết quả từ API trả về load vào dataframe pandas\n",
    "bảng data bao gồm 2 cột: name và city"
   ]
  },
  {
   "cell_type": "markdown",
   "id": "5f8c2e09-43ac-4790-b67c-bbfdd33ed8eb",
   "metadata": {},
   "source": [
    "#### III.2 Lưu kết quả data dưới dạng file pickle"
   ]
  },
  {
   "cell_type": "code",
   "execution_count": 35,
   "id": "03968651-6a06-4b3d-a2bb-5c5ba4bef782",
   "metadata": {},
   "outputs": [
    {
     "name": "stdout",
     "output_type": "stream",
     "text": [
      "Sheet name: Sheet1\n",
      "    emp_id   first_name   last_name  hire_date\n",
      "0      100       Steven        King 2003-06-17\n",
      "1      101        Neena     Kochhar 2005-09-21\n",
      "2      102          Lex     De Haan 2001-01-13\n",
      "3      103    Alexander      Hunold 2006-01-03\n",
      "4      104        Bruce       Ernst 2007-05-21\n",
      "5      105        David      Austin 2005-06-25\n",
      "6      106        Valli   Pataballa 2006-02-05\n",
      "7      107        Diana     Lorentz 2007-02-07\n",
      "8      108        Nancy   Greenberg 2002-08-17\n",
      "9      109       Daniel      Faviet 2002-08-16\n",
      "10     110         John        Chen 2005-09-28\n",
      "11     111       Ismael     Sciarra 2005-09-30\n",
      "12     112  Jose Manuel       Urman 2006-03-07\n",
      "13     113         Luis        Popp 2007-12-07\n",
      "14     114          Den    Raphaely 2002-12-07\n",
      "15     115    Alexander        Khoo 2003-05-18\n",
      "16     116       Shelli       Baida 2005-12-24\n",
      "17     117        Sigal      Tobias 2005-07-24\n",
      "18     118          Guy      Himuro 2006-11-15\n",
      "19     119        Karen  Colmenares 2007-08-10\n",
      "\n",
      "\n",
      "Sheet name: Sheet2\n",
      "    emp_id first_name    last_name  hire_date\n",
      "0      120    Matthew        Weiss 2004-07-18\n",
      "1      121       Adam        Fripp 2005-04-10\n",
      "2      122      Payam     Kaufling 2003-05-01\n",
      "3      123     Shanta      Vollman 2005-10-10\n",
      "4      124      Kevin      Mourgos 2007-11-16\n",
      "5      125      Julia        Nayer 2005-07-16\n",
      "6      126      Irene  Mikkilineni 2006-09-28\n",
      "7      127      James       Landry 2007-01-14\n",
      "8      128     Steven       Markle 2008-03-08\n",
      "9      129      Laura       Bissot 2005-08-20\n",
      "10     130      Mozhe     Atkinson 2005-10-30\n",
      "11     131      James       Marlow 2005-02-16\n",
      "12     132         TJ        Olson 2007-04-10\n",
      "13     133      Jason       Mallin 2004-06-14\n",
      "14     134    Michael       Rogers 2006-08-26\n",
      "15     135         Ki          Gee 2007-12-12\n",
      "16     136      Hazel   Philtanker 2008-02-06\n",
      "17     137     Renske       Ladwig 2003-07-14\n",
      "18     138    Stephen       Stiles 2005-10-26\n",
      "\n",
      "\n",
      "Sheet name: Sheet3\n",
      "   emp_id first_name  last_name  hire_date\n",
      "0     141     Trenna       Rajs 2003-10-17\n",
      "1     142     Curtis     Davies 2005-01-29\n",
      "2     143    Randall      Matos 2006-03-15\n",
      "3     144      Peter     Vargas 2006-07-09\n",
      "4     145       John    Russell 2004-10-01\n",
      "5     146      Karen   Partners 2005-01-05\n",
      "6     147    Alberto  Errazuriz 2005-03-10\n",
      "7     148     Gerald  Cambrault 2007-10-15\n",
      "8     149      Eleni    Zlotkey 2008-01-29\n",
      "\n",
      "\n"
     ]
    }
   ],
   "source": [
    "import pandas as pd\n",
    "employee_data = pd.read_excel('/Users/manuelmacbookpro/Downloads/homework4python/employee.xlsx')\n",
    "all_sheets = pd.read_excel('/Users/manuelmacbookpro/Downloads/homework4python/employee.xlsx', sheet_name=None)\n",
    "\n",
    "for sheet_name, df in all_sheets.items():\n",
    "    print(f\"Sheet name: {sheet_name}\")\n",
    "    print(df.head(21))  # Display the first 21 rows of each DataFrame\n",
    "    print(\"\\n\")"
   ]
  },
  {
   "cell_type": "code",
   "execution_count": 155,
   "id": "dccd64b9-9611-4551-8bee-0596e2da5459",
   "metadata": {},
   "outputs": [],
   "source": [
    "\n",
    "sheet1_df = all_sheets['Sheet1']\n",
    "sheet2_df = all_sheets['Sheet2']  \n",
    "sheet3_df = all_sheets['Sheet3'] "
   ]
  },
  {
   "cell_type": "code",
   "execution_count": 45,
   "id": "67b845c4-bca5-45a9-ab3c-c0e1f3111021",
   "metadata": {},
   "outputs": [
    {
     "name": "stdout",
     "output_type": "stream",
     "text": [
      "    emp_id   first_name    last_name  hire_date\n",
      "0      100       Steven         King 2003-06-17\n",
      "1      101        Neena      Kochhar 2005-09-21\n",
      "2      102          Lex      De Haan 2001-01-13\n",
      "3      103    Alexander       Hunold 2006-01-03\n",
      "4      104        Bruce        Ernst 2007-05-21\n",
      "5      105        David       Austin 2005-06-25\n",
      "6      106        Valli    Pataballa 2006-02-05\n",
      "7      107        Diana      Lorentz 2007-02-07\n",
      "8      108        Nancy    Greenberg 2002-08-17\n",
      "9      109       Daniel       Faviet 2002-08-16\n",
      "10     110         John         Chen 2005-09-28\n",
      "11     111       Ismael      Sciarra 2005-09-30\n",
      "12     112  Jose Manuel        Urman 2006-03-07\n",
      "13     113         Luis         Popp 2007-12-07\n",
      "14     114          Den     Raphaely 2002-12-07\n",
      "15     115    Alexander         Khoo 2003-05-18\n",
      "16     116       Shelli        Baida 2005-12-24\n",
      "17     117        Sigal       Tobias 2005-07-24\n",
      "18     118          Guy       Himuro 2006-11-15\n",
      "19     119        Karen   Colmenares 2007-08-10\n",
      "20     120      Matthew        Weiss 2004-07-18\n",
      "21     121         Adam        Fripp 2005-04-10\n",
      "22     122        Payam     Kaufling 2003-05-01\n",
      "23     123       Shanta      Vollman 2005-10-10\n",
      "24     124        Kevin      Mourgos 2007-11-16\n",
      "25     125        Julia        Nayer 2005-07-16\n",
      "26     126        Irene  Mikkilineni 2006-09-28\n",
      "27     127        James       Landry 2007-01-14\n",
      "28     128       Steven       Markle 2008-03-08\n",
      "29     129        Laura       Bissot 2005-08-20\n",
      "30     130        Mozhe     Atkinson 2005-10-30\n",
      "31     131        James       Marlow 2005-02-16\n",
      "32     132           TJ        Olson 2007-04-10\n",
      "33     133        Jason       Mallin 2004-06-14\n",
      "34     134      Michael       Rogers 2006-08-26\n",
      "35     135           Ki          Gee 2007-12-12\n",
      "36     136        Hazel   Philtanker 2008-02-06\n",
      "37     137       Renske       Ladwig 2003-07-14\n",
      "38     138      Stephen       Stiles 2005-10-26\n",
      "39     141       Trenna         Rajs 2003-10-17\n",
      "40     142       Curtis       Davies 2005-01-29\n",
      "41     143      Randall        Matos 2006-03-15\n",
      "42     144        Peter       Vargas 2006-07-09\n",
      "43     145         John      Russell 2004-10-01\n",
      "44     146        Karen     Partners 2005-01-05\n",
      "45     147      Alberto    Errazuriz 2005-03-10\n",
      "46     148       Gerald    Cambrault 2007-10-15\n",
      "47     149        Eleni      Zlotkey 2008-01-29\n"
     ]
    }
   ],
   "source": [
    "combined_data = pd.concat(all_sheets.values(), ignore_index=True)\n",
    "\n",
    "print(combined_data.head(100))"
   ]
  },
  {
   "cell_type": "code",
   "execution_count": 11,
   "id": "7d492a58-add8-4198-9981-240042cc427d",
   "metadata": {},
   "outputs": [
    {
     "data": {
      "text/plain": [
       "4"
      ]
     },
     "execution_count": 11,
     "metadata": {},
     "output_type": "execute_result"
    }
   ],
   "source": [
    "employee_data.shape[1]"
   ]
  },
  {
   "cell_type": "code",
   "execution_count": 15,
   "id": "bcc7328a-bf69-425d-9a39-97968d257433",
   "metadata": {},
   "outputs": [
    {
     "data": {
      "text/plain": [
       "Index(['emp_id', 'first_name', 'last_name', 'hire_date'], dtype='object')"
      ]
     },
     "execution_count": 15,
     "metadata": {},
     "output_type": "execute_result"
    }
   ],
   "source": [
    "employee_data.columns"
   ]
  },
  {
   "cell_type": "code",
   "execution_count": 157,
   "id": "2bde0f4f-877b-43c7-8df8-61d4a52bab5c",
   "metadata": {},
   "outputs": [
    {
     "name": "stdout",
     "output_type": "stream",
     "text": [
      "    emp_id   first_name    last_name  hire_date  department\n",
      "0      100       Steven         King 2003-06-17  Technology\n",
      "1      101        Neena      Kochhar 2005-09-21  Technology\n",
      "2      102          Lex      De Haan 2001-01-13  Technology\n",
      "3      103    Alexander       Hunold 2006-01-03  Technology\n",
      "4      104        Bruce        Ernst 2007-05-21  Technology\n",
      "5      105        David       Austin 2005-06-25  Technology\n",
      "6      106        Valli    Pataballa 2006-02-05  Technology\n",
      "7      107        Diana      Lorentz 2007-02-07  Technology\n",
      "8      108        Nancy    Greenberg 2002-08-17  Technology\n",
      "9      109       Daniel       Faviet 2002-08-16  Technology\n",
      "10     110         John         Chen 2005-09-28  Technology\n",
      "11     111       Ismael      Sciarra 2005-09-30  Technology\n",
      "12     112  Jose Manuel        Urman 2006-03-07  Technology\n",
      "13     113         Luis         Popp 2007-12-07  Technology\n",
      "14     114          Den     Raphaely 2002-12-07  Technology\n",
      "15     115    Alexander         Khoo 2003-05-18  Technology\n",
      "16     116       Shelli        Baida 2005-12-24  Technology\n",
      "17     117        Sigal       Tobias 2005-07-24  Technology\n",
      "18     118          Guy       Himuro 2006-11-15  Technology\n",
      "19     119        Karen   Colmenares 2007-08-10  Technology\n",
      "20     120      Matthew        Weiss 2004-07-18  Accountant\n",
      "21     121         Adam        Fripp 2005-04-10  Accountant\n",
      "22     122        Payam     Kaufling 2003-05-01  Accountant\n",
      "23     123       Shanta      Vollman 2005-10-10  Accountant\n",
      "24     124        Kevin      Mourgos 2007-11-16  Accountant\n",
      "25     125        Julia        Nayer 2005-07-16  Accountant\n",
      "26     126        Irene  Mikkilineni 2006-09-28  Accountant\n",
      "27     127        James       Landry 2007-01-14  Accountant\n",
      "28     128       Steven       Markle 2008-03-08  Accountant\n",
      "29     129        Laura       Bissot 2005-08-20  Accountant\n",
      "30     130        Mozhe     Atkinson 2005-10-30  Accountant\n",
      "31     131        James       Marlow 2005-02-16  Accountant\n",
      "32     132           TJ        Olson 2007-04-10  Accountant\n",
      "33     133        Jason       Mallin 2004-06-14  Accountant\n",
      "34     134      Michael       Rogers 2006-08-26  Accountant\n",
      "35     135           Ki          Gee 2007-12-12  Accountant\n",
      "36     136        Hazel   Philtanker 2008-02-06  Accountant\n",
      "37     137       Renske       Ladwig 2003-07-14  Accountant\n",
      "38     138      Stephen       Stiles 2005-10-26  Accountant\n",
      "39     141       Trenna         Rajs 2003-10-17   Marketing\n",
      "40     142       Curtis       Davies 2005-01-29   Marketing\n",
      "41     143      Randall        Matos 2006-03-15   Marketing\n",
      "42     144        Peter       Vargas 2006-07-09   Marketing\n",
      "43     145         John      Russell 2004-10-01   Marketing\n",
      "44     146        Karen     Partners 2005-01-05   Marketing\n",
      "45     147      Alberto    Errazuriz 2005-03-10   Marketing\n",
      "46     148       Gerald    Cambrault 2007-10-15   Marketing\n",
      "47     149        Eleni      Zlotkey 2008-01-29   Marketing\n"
     ]
    }
   ],
   "source": [
    "\n",
    "department = ['Technology'] * len(all_sheets['Sheet1']) + \\\n",
    "              ['Accountant'] * len(all_sheets['Sheet2']) + \\\n",
    "             ['Marketing'] * len(all_sheets['Sheet3'])\n",
    "\n",
    "combined_data['department'] = department_values\n",
    "\n",
    "print(combined_data.head(100))"
   ]
  },
  {
   "cell_type": "code",
   "execution_count": null,
   "id": "7b0d3a14-b7c7-4ebd-b5f7-221a34479ca9",
   "metadata": {},
   "outputs": [],
   "source": []
  },
  {
   "cell_type": "code",
   "execution_count": 168,
   "id": "ad898bb6-c6f7-48ec-bd6e-c21769645d7e",
   "metadata": {},
   "outputs": [
    {
     "name": "stdout",
     "output_type": "stream",
     "text": [
      "     ord_no  purch_amt    ord_date  customer_id  salesman_id\n",
      "0   70001.0     150.50  2012-10-05         3002       5002.0\n",
      "1       NaN     270.65  2012-09-10         3001       5003.0\n",
      "2   70002.0      65.26         NaN         3001       5001.0\n",
      "3   70004.0     110.50  2012-08-17         3003          NaN\n",
      "4       NaN     948.50  2012-09-10         3002       5002.0\n",
      "5   70005.0    2400.60  2012-07-27         3001       5001.0\n",
      "6       NaN    5760.00  2012-09-10         3001       5001.0\n",
      "7   70010.0    1983.43  2012-10-10         3004          NaN\n",
      "8   70003.0    2480.40  2012-10-10         3003       5003.0\n",
      "9   70012.0     250.45  2012-06-27         3002       5002.0\n",
      "10      NaN      75.29  2012-08-17         3001       5003.0\n",
      "11  70013.0    3045.60  2012-04-25         3001          NaN\n"
     ]
    }
   ],
   "source": [
    "import pandas as pd\n",
    "import numpy as np\n",
    "\n",
    "\n",
    "pd.set_option('display.max_rows', None)\n",
    "\n",
    "# Initialize the DataFrame\n",
    "df = pd.DataFrame({\n",
    "    'ord_no': [70001, np.nan, 70002, 70004, np.nan, 70005, np.nan, 70010, 70003, 70012, np.nan, 70013],\n",
    "    'purch_amt': [150.5, 270.65, 65.26, 110.5, 948.5, 2400.6, 5760, 1983.43, 2480.4, 250.45, 75.29, 3045.6],\n",
    "    'ord_date': ['2012-10-05', '2012-09-10', np.nan, '2012-08-17', '2012-09-10', '2012-07-27', '2012-09-10', '2012-10-10', '2012-10-10', '2012-06-27', '2012-08-17', '2012-04-25'],\n",
    "    'customer_id': [3002, 3001, 3001, 3003, 3002, 3001, 3001, 3004, 3003, 3002, 3001, 3001],\n",
    "    'salesman_id': [5002, 5003, 5001, np.nan, 5002, 5001, 5001, np.nan, 5003, 5002, 5003, np.nan]\n",
    "})\n",
    "\n",
    "# Display the DataFrame\n",
    "print(df)"
   ]
  },
  {
   "cell_type": "code",
   "execution_count": 172,
   "id": "cb177a81-0c8d-427e-91a7-c8baf1c7f0ec",
   "metadata": {},
   "outputs": [
    {
     "name": "stdout",
     "output_type": "stream",
     "text": [
      "ord_no: Có\n",
      "purch_amt: Không\n",
      "ord_date: Có\n",
      "customer_id: Không\n",
      "salesman_id: Có\n"
     ]
    }
   ],
   "source": [
    "Collum_miss = df.isnull().any()\n",
    "\n",
    "for column, has_missing in Collum_miss.items():\n",
    "    if has_missing:\n",
    "        print(f\"{column}: Có\")\n",
    "    else:\n",
    "        print(f\"{column}: Không\")"
   ]
  },
  {
   "cell_type": "code",
   "execution_count": 174,
   "id": "11610e3d-d757-4085-ac74-d723bbca06b0",
   "metadata": {},
   "outputs": [
    {
     "name": "stdout",
     "output_type": "stream",
     "text": [
      "\n",
      "Số lượng missing values mỗi cột:\n",
      " ord_no         4\n",
      "purch_amt      0\n",
      "ord_date       1\n",
      "customer_id    0\n",
      "salesman_id    3\n",
      "dtype: int64\n"
     ]
    }
   ],
   "source": [
    "\n",
    "missing_count = df.isnull().sum()\n",
    "print(\"\\nSố lượng missing values mỗi cột:\\n\", missing_count)\n"
   ]
  },
  {
   "cell_type": "code",
   "execution_count": 67,
   "id": "f2fdcf00-50dd-481f-8a93-307df8bb4fe9",
   "metadata": {},
   "outputs": [
    {
     "name": "stdout",
     "output_type": "stream",
     "text": [
      "\n",
      "DataFrame sau khi loại bỏ các dòng mà tất cả giá trị đều null:\n",
      "      ord_no  purch_amt    ord_date  customer_id  salesman_id\n",
      "0   70001.0     150.50  2012-10-05         3002       5002.0\n",
      "1       NaN     270.65  2012-09-10         3001       5003.0\n",
      "2   70002.0      65.26         NaN         3001       5001.0\n",
      "3   70004.0     110.50  2012-08-17         3003          NaN\n",
      "4       NaN     948.50  2012-09-10         3002       5002.0\n",
      "5   70005.0    2400.60  2012-07-27         3001       5001.0\n",
      "6       NaN    5760.00  2012-09-10         3001       5001.0\n",
      "7   70010.0    1983.43  2012-10-10         3004          NaN\n",
      "8   70003.0    2480.40  2012-10-10         3003       5003.0\n",
      "9   70012.0     250.45  2012-06-27         3002       5002.0\n",
      "10      NaN      75.29  2012-08-17         3001       5003.0\n",
      "11  70013.0    3045.60  2012-04-25         3001          NaN\n"
     ]
    }
   ],
   "source": [
    "df_cleaned = df.dropna(how='all')\n",
    "print(\"\\nDataFrame sau khi loại bỏ các dòng mà tất cả giá trị đều null:\\n\", df_cleaned)\n"
   ]
  },
  {
   "cell_type": "code",
   "execution_count": 153,
   "id": "c7da0bc1-a38c-4fac-8b59-18aa2ab507a1",
   "metadata": {},
   "outputs": [
    {
     "name": "stdout",
     "output_type": "stream",
     "text": [
      "DataFrame sau khi loại bỏ các dòng mà tất cả các giá trị đều null:\n",
      "          name         city\n",
      "0     Quang Vu    Hai Phong\n",
      "1  Minh Nguyen    Thai Binh\n",
      "2    Quynh Anh      Unknown\n",
      "3  Phuong Hang      Ben Tre\n",
      "4  Phuong Hang      Ben Tre\n",
      "5     Chinh Vo  Ho Chi Minh\n"
     ]
    }
   ],
   "source": [
    "remove_null = df.dropna(how='all')\n",
    "print(\"DataFrame sau khi loại bỏ các dòng mà tất cả các giá trị đều null:\")\n",
    "print(remove_null)\n"
   ]
  },
  {
   "cell_type": "code",
   "execution_count": 75,
   "id": "c6ab7f9e-9ba9-4c5e-b87c-3d82b16e05fa",
   "metadata": {},
   "outputs": [
    {
     "name": "stdout",
     "output_type": "stream",
     "text": [
      "\n",
      "DataFrame sau khi thay thế giá trị NaN của cột 'ord_no' bằng 0:\n",
      "      ord_no  purch_amt    ord_date  customer_id  salesman_id\n",
      "0   70001.0     150.50  2012-10-05         3002       5002.0\n",
      "1       0.0     270.65  2012-09-10         3001       5003.0\n",
      "2   70002.0      65.26         NaN         3001       5001.0\n",
      "3   70004.0     110.50  2012-08-17         3003          NaN\n",
      "4       0.0     948.50  2012-09-10         3002       5002.0\n",
      "5   70005.0    2400.60  2012-07-27         3001       5001.0\n",
      "6       0.0    5760.00  2012-09-10         3001       5001.0\n",
      "7   70010.0    1983.43  2012-10-10         3004          NaN\n",
      "8   70003.0    2480.40  2012-10-10         3003       5003.0\n",
      "9   70012.0     250.45  2012-06-27         3002       5002.0\n",
      "10      0.0      75.29  2012-08-17         3001       5003.0\n",
      "11  70013.0    3045.60  2012-04-25         3001          NaN\n"
     ]
    },
    {
     "name": "stderr",
     "output_type": "stream",
     "text": [
      "/var/folders/lg/ym68kvgx79d4ggc751kgymb80000gn/T/ipykernel_48077/3779909188.py:2: FutureWarning: A value is trying to be set on a copy of a DataFrame or Series through chained assignment using an inplace method.\n",
      "The behavior will change in pandas 3.0. This inplace method will never work because the intermediate object on which we are setting values always behaves as a copy.\n",
      "\n",
      "For example, when doing 'df[col].method(value, inplace=True)', try using 'df.method({col: value}, inplace=True)' or df[col] = df[col].method(value) instead, to perform the operation inplace on the original object.\n",
      "\n",
      "\n",
      "  df['ord_no'].fillna(0, inplace=True)\n"
     ]
    }
   ],
   "source": [
    "# Replace all NaN values in the 'ord_no' column with 0\n",
    "df['ord_no'].fillna(0, inplace=True)\n",
    "\n",
    "# Display the updated DataFrame\n",
    "print(\"\\nDataFrame sau khi thay thế giá trị NaN của cột 'ord_no' bằng 0:\\n\", df)"
   ]
  },
  {
   "cell_type": "code",
   "execution_count": 130,
   "id": "8b2c1b96-4efe-46db-a29a-fd0074086aea",
   "metadata": {},
   "outputs": [
    {
     "name": "stdout",
     "output_type": "stream",
     "text": [
      "Data extracted successfully:\n",
      "{'status': 'OK', 'code': 200, 'employees': [{'name': 'Quang Vu', 'city': 'Hai Phong'}, {'name': 'Minh Nguyen', 'city': 'Thai Binh'}, {'name': 'Quynh Anh', 'city': None}, {'name': 'Phuong Hang', 'city': 'Ben Tre'}, {'name': 'Phuong Hang', 'city': 'Ben Tre'}, {'name': 'Chinh Vo', 'city': 'Ho Chi Minh'}]}\n"
     ]
    }
   ],
   "source": [
    "\n",
    "import requests\n",
    "url = 'https://mocki.io/v1/840088ea-222f-4fe3-bb17-fa093e7be836'\n",
    "resp = requests.get(url)\n",
    "resp\n",
    "api_url = 'https://mocki.io/v1/840088ea-222f-4fe3-bb17-fa093e7be836'  # Replace with your actual API URL\n",
    "employee_API = extract_data_from_api(api_url)\n",
    "\n",
    "if data is not None:\n",
    "    print(\"Data extracted successfully:\")\n",
    "    print(employee_API)"
   ]
  },
  {
   "cell_type": "code",
   "execution_count": null,
   "id": "1870c71e-e091-42ed-a001-fff5167da396",
   "metadata": {},
   "outputs": [],
   "source": []
  },
  {
   "cell_type": "code",
   "execution_count": 144,
   "id": "5ac4ff0b-1cf5-4054-82d7-1ca57305f32f",
   "metadata": {},
   "outputs": [
    {
     "name": "stdout",
     "output_type": "stream",
     "text": [
      "Formatted Data Table:\n",
      "          name         city\n",
      "0     Quang Vu    Hai Phong\n",
      "1  Minh Nguyen    Thai Binh\n",
      "2    Quynh Anh      Unknown\n",
      "3  Phuong Hang      Ben Tre\n",
      "4  Phuong Hang      Ben Tre\n",
      "5     Chinh Vo  Ho Chi Minh\n"
     ]
    },
    {
     "name": "stderr",
     "output_type": "stream",
     "text": [
      "/var/folders/lg/ym68kvgx79d4ggc751kgymb80000gn/T/ipykernel_48077/4098298896.py:10: FutureWarning: A value is trying to be set on a copy of a DataFrame or Series through chained assignment using an inplace method.\n",
      "The behavior will change in pandas 3.0. This inplace method will never work because the intermediate object on which we are setting values always behaves as a copy.\n",
      "\n",
      "For example, when doing 'df[col].method(value, inplace=True)', try using 'df.method({col: value}, inplace=True)' or df[col] = df[col].method(value) instead, to perform the operation inplace on the original object.\n",
      "\n",
      "\n",
      "  df['city'].fillna('Unknown', inplace=True)\n"
     ]
    }
   ],
   "source": [
    "import pandas as pd\n",
    "employees = data['employees']\n",
    "\n",
    "df = pd.DataFrame(employees)\n",
    "\n",
    "df['city'].fillna('Unknown', inplace=True)\n",
    "print(\"Formatted Data Table:\")\n",
    "print(df)\n"
   ]
  },
  {
   "cell_type": "code",
   "execution_count": null,
   "id": "9558cfeb-a467-46fc-8171-970425f88020",
   "metadata": {},
   "outputs": [],
   "source": []
  },
  {
   "cell_type": "code",
   "execution_count": null,
   "id": "39a9d128-1efa-4877-a4c8-e52d8dc772e7",
   "metadata": {},
   "outputs": [],
   "source": [
    "\n"
   ]
  },
  {
   "cell_type": "code",
   "execution_count": null,
   "id": "1eb4eb9d-4da9-476a-8de9-cae635e20941",
   "metadata": {},
   "outputs": [],
   "source": []
  }
 ],
 "metadata": {
  "kernelspec": {
   "display_name": "Python 3 (ipykernel)",
   "language": "python",
   "name": "python3"
  },
  "language_info": {
   "codemirror_mode": {
    "name": "ipython",
    "version": 3
   },
   "file_extension": ".py",
   "mimetype": "text/x-python",
   "name": "python",
   "nbconvert_exporter": "python",
   "pygments_lexer": "ipython3",
   "version": "3.12.4"
  }
 },
 "nbformat": 4,
 "nbformat_minor": 5
}
